{
 "cells": [
  {
   "cell_type": "code",
   "execution_count": 16,
   "metadata": {},
   "outputs": [],
   "source": [
    "import numpy as np \n",
    "import pandas as pd \n",
    "import matplotlib.pyplot as plt\n",
    "from sklearn.decomposition import PCA\n",
    "from sklearn.preprocessing import StandardScaler\n",
    "import random as rd "
   ]
  },
  {
   "cell_type": "code",
   "execution_count": 4,
   "metadata": {},
   "outputs": [],
   "source": [
    "genes = ['gene' + str(i) for i in range(1,101)]\n",
    " \n",
    "wt = ['wt' + str(i) for i in range(1,6)]\n",
    "ko = ['ko' + str(i) for i in range(1,6)]"
   ]
  },
  {
   "cell_type": "code",
   "execution_count": 5,
   "metadata": {},
   "outputs": [],
   "source": [
    "data = pd.DataFrame(columns=[*wt, *ko], index=genes)"
   ]
  },
  {
   "cell_type": "code",
   "execution_count": 8,
   "metadata": {},
   "outputs": [
    {
     "name": "stdout",
     "output_type": "stream",
     "text": [
      "       wt1  wt2  wt3  wt4  wt5  ko1  ko2  ko3  ko4  ko5\n",
      "gene1  714  716  688  680  690  213  239  237  243  225\n",
      "gene2   51   42   27   36   32   65   61   54   49   46\n",
      "gene3  493  486  440  444  494  258  282  304  254  260\n",
      "gene4  142  145  167  160  169  938  972  958  909  945\n",
      "gene5  676  703  717  681  703  323  348  309  314  329\n",
      "(100, 10)\n"
     ]
    }
   ],
   "source": [
    "for gene in data.index:\n",
    "    data.loc[gene,'wt1':'wt5'] = np.random.poisson(lam=rd.randrange(10,1000), size=5)\n",
    "    data.loc[gene,'ko1':'ko5'] = np.random.poisson(lam=rd.randrange(10,1000), size=5)\n",
    " \n",
    "print(data.head())\n",
    "print(data.shape)"
   ]
  },
  {
   "cell_type": "code",
   "execution_count": 9,
   "metadata": {},
   "outputs": [],
   "source": [
    "scaled_data = StandardScaler().fit_transform(data.T)"
   ]
  },
  {
   "cell_type": "code",
   "execution_count": 12,
   "metadata": {},
   "outputs": [],
   "source": [
    "pca = PCA()\n",
    "pca.fit(scaled_data)\n",
    "pca_data = pca.transform(scaled_data)"
   ]
  },
  {
   "cell_type": "code",
   "execution_count": 14,
   "metadata": {},
   "outputs": [],
   "source": [
    "##Scree plot with no of PCs\n",
    "percents = np.round(pca.explained_variance_ratio_*100, decimals=1)\n",
    "labels = ['PC' + str(x) for x in range(1, len(percents)+1)]"
   ]
  },
  {
   "cell_type": "code",
   "execution_count": 18,
   "metadata": {},
   "outputs": [
    {
     "data": {
      "image/png": "[encoded data removed]",
      "text/plain": [
       "<Figure size 432x288 with 1 Axes>"
      ]
     },
     "metadata": {},
     "output_type": "display_data"
    }
   ],
   "source": [
    "##Plot using seaborn \n",
    "import seaborn as sns\n",
    "sns.set_style('whitegrid')\n",
    "sns.barplot(x=labels, y=percents)\n",
    "plt.ylabel('Percentage of Explained Variance')\n",
    "plt.xlabel('Principal Component')\n",
    "plt.title('Scree Plot')\n",
    "plt.show()"
   ]
  },
  {
   "cell_type": "markdown",
   "metadata": {},
   "source": [
    "Scree plot shows that max no of components is represented by the first component followed by the PC2. So, we can use PC1 and PC2 to represent the data."
   ]
  },
  {
   "cell_type": "code",
   "execution_count": 19,
   "metadata": {},
   "outputs": [],
   "source": [
    "#putting the pca values into a dataframe\n",
    "pca_df = pd.DataFrame(pca_data, index=[*wt, *ko], columns=labels)"
   ]
  },
  {
   "cell_type": "code",
   "execution_count": 20,
   "metadata": {},
   "outputs": [
    {
     "data": {
      "text/html": [
       "<div>\n",
       "<style scoped>\n",
       "    .dataframe tbody tr th:only-of-type {\n",
       "        vertical-align: middle;\n",
       "    }\n",
       "\n",
       "    .dataframe tbody tr th {\n",
       "        vertical-align: top;\n",
       "    }\n",
       "\n",
       "    .dataframe thead th {\n",
       "        text-align: right;\n",
       "    }\n",
       "</style>\n",
       "<table border=\"1\" class=\"dataframe\">\n",
       "  <thead>\n",
       "    <tr style=\"text-align: right;\">\n",
       "      <th></th>\n",
       "      <th>PC1</th>\n",
       "      <th>PC2</th>\n",
       "      <th>PC3</th>\n",
       "      <th>PC4</th>\n",
       "      <th>PC5</th>\n",
       "      <th>PC6</th>\n",
       "      <th>PC7</th>\n",
       "      <th>PC8</th>\n",
       "      <th>PC9</th>\n",
       "      <th>PC10</th>\n",
       "    </tr>\n",
       "  </thead>\n",
       "  <tbody>\n",
       "    <tr>\n",
       "      <th>wt1</th>\n",
       "      <td>9.741736</td>\n",
       "      <td>-0.434995</td>\n",
       "      <td>2.759324</td>\n",
       "      <td>-0.609246</td>\n",
       "      <td>-0.932132</td>\n",
       "      <td>-0.328090</td>\n",
       "      <td>-0.217295</td>\n",
       "      <td>-0.371817</td>\n",
       "      <td>0.329634</td>\n",
       "      <td>4.947129e-16</td>\n",
       "    </tr>\n",
       "    <tr>\n",
       "      <th>wt2</th>\n",
       "      <td>9.385262</td>\n",
       "      <td>2.523169</td>\n",
       "      <td>0.198703</td>\n",
       "      <td>0.391170</td>\n",
       "      <td>1.192303</td>\n",
       "      <td>1.048223</td>\n",
       "      <td>0.486078</td>\n",
       "      <td>0.212262</td>\n",
       "      <td>0.513645</td>\n",
       "      <td>-4.999108e-16</td>\n",
       "    </tr>\n",
       "    <tr>\n",
       "      <th>wt3</th>\n",
       "      <td>9.520513</td>\n",
       "      <td>0.489178</td>\n",
       "      <td>-1.621392</td>\n",
       "      <td>0.734144</td>\n",
       "      <td>-1.083739</td>\n",
       "      <td>0.599490</td>\n",
       "      <td>-0.807870</td>\n",
       "      <td>-0.896614</td>\n",
       "      <td>-0.330876</td>\n",
       "      <td>1.244942e-15</td>\n",
       "    </tr>\n",
       "    <tr>\n",
       "      <th>wt4</th>\n",
       "      <td>9.919717</td>\n",
       "      <td>-2.399391</td>\n",
       "      <td>-0.170635</td>\n",
       "      <td>0.620061</td>\n",
       "      <td>0.759704</td>\n",
       "      <td>-0.012808</td>\n",
       "      <td>-0.712592</td>\n",
       "      <td>1.140975</td>\n",
       "      <td>-0.226268</td>\n",
       "      <td>-5.648047e-16</td>\n",
       "    </tr>\n",
       "    <tr>\n",
       "      <th>wt5</th>\n",
       "      <td>9.535373</td>\n",
       "      <td>-0.109530</td>\n",
       "      <td>-1.184079</td>\n",
       "      <td>-1.133660</td>\n",
       "      <td>0.090432</td>\n",
       "      <td>-1.301523</td>\n",
       "      <td>1.265773</td>\n",
       "      <td>-0.117853</td>\n",
       "      <td>-0.285802</td>\n",
       "      <td>-3.484081e-16</td>\n",
       "    </tr>\n",
       "  </tbody>\n",
       "</table>\n",
       "</div>"
      ],
      "text/plain": [
       "          PC1       PC2       PC3       PC4       PC5       PC6       PC7  \\\n",
       "wt1  9.741736 -0.434995  2.759324 -0.609246 -0.932132 -0.328090 -0.217295   \n",
       "wt2  9.385262  2.523169  0.198703  0.391170  1.192303  1.048223  0.486078   \n",
       "wt3  9.520513  0.489178 -1.621392  0.734144 -1.083739  0.599490 -0.807870   \n",
       "wt4  9.919717 -2.399391 -0.170635  0.620061  0.759704 -0.012808 -0.712592   \n",
       "wt5  9.535373 -0.109530 -1.184079 -1.133660  0.090432 -1.301523  1.265773   \n",
       "\n",
       "          PC8       PC9          PC10  \n",
       "wt1 -0.371817  0.329634  4.947129e-16  \n",
       "wt2  0.212262  0.513645 -4.999108e-16  \n",
       "wt3 -0.896614 -0.330876  1.244942e-15  \n",
       "wt4  1.140975 -0.226268 -5.648047e-16  \n",
       "wt5 -0.117853 -0.285802 -3.484081e-16  "
      ]
     },
     "execution_count": 20,
     "metadata": {},
     "output_type": "execute_result"
    }
   ],
   "source": [
    "pca_df.head()"
   ]
  },
  {
   "cell_type": "code",
   "execution_count": 27,
   "metadata": {},
   "outputs": [
    {
     "data": {
      "image/png": "[encoded data removed]",
      "text/plain": [
       "<Figure size 432x288 with 1 Axes>"
      ]
     },
     "metadata": {},
     "output_type": "display_data"
    }
   ],
   "source": [
    "##scatter plot of the PCA values\n",
    "sns.set_style('whitegrid')\n",
    "sns.scatterplot(x=labels[0], y=labels[1], data=pca_df)\n",
    "plt.xlabel(f'PC1-{percents[0]}%')\n",
    "plt.ylabel(f'PC2-{percents[1]}%')\n",
    "plt.title('Scatter Plot of PCA Values')\n",
    "\n",
    "for sample in pca_df.index:\n",
    "    plt.annotate(sample, (pca_df.loc[sample, labels[0]], pca_df.loc[sample, labels[1]]))\n",
    "plt.show()"
   ]
  },
  {
   "cell_type": "code",
   "execution_count": 39,
   "metadata": {},
   "outputs": [
    {
     "name": "stdout",
     "output_type": "stream",
     "text": [
      "gene30     0.103888\n",
      "gene74    -0.103875\n",
      "gene92    -0.103863\n",
      "gene4     -0.103845\n",
      "gene98     0.103798\n",
      "gene100    0.103785\n",
      "gene75     0.103781\n",
      "gene72    -0.103770\n",
      "gene7     -0.103761\n",
      "gene38     0.103732\n",
      "dtype: float64\n"
     ]
    }
   ],
   "source": [
    "#loading scores of the PCA components\n",
    "loading_scores = pd.Series(pca.components_[0], index=genes)\n",
    "sorted_scores = loading_scores.abs().sort_values(ascending=False)\n",
    "top_10_genes = sorted_scores[:10].index.values\n",
    "\n",
    "print(loading_scores[top_10_genes])"
   ]
  },
  {
   "cell_type": "code",
   "execution_count": null,
   "metadata": {},
   "outputs": [],
   "source": []
  }
 ],
 "metadata": {
  "interpreter": {
   "hash": "47333a2500ef0234292df408a6e3a136be60b716149332c48ac43a77085b8479"
  },
  "kernelspec": {
   "display_name": "Python 3.10.1 64-bit",
   "language": "python",
   "name": "python3"
  },
  "language_info": {
   "codemirror_mode": {
    "name": "ipython",
    "version": 3
   },
   "file_extension": ".py",
   "mimetype": "text/x-python",
   "name": "python",
   "nbconvert_exporter": "python",
   "pygments_lexer": "ipython3",
   "version": "3.10.1"
  },
  "orig_nbformat": 4
 },
 "nbformat": 4,
 "nbformat_minor": 2
}
