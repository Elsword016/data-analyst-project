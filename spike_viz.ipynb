{
 "cells": [
  {
   "cell_type": "code",
   "execution_count": 1,
   "metadata": {},
   "outputs": [],
   "source": [
    "import numpy as np \n",
    "import matplotlib.pyplot as plt\n",
    "import seaborn as sns \n",
    "import pandas as pd \n",
    "import plotly.express as px \n",
    "import plotly.io as pio \n",
    "pio.renderers.default = \"notebook_connected\"\n",
    "from matplotlib import style\n",
    "style.use('ggplot')\n",
    "sns.set_style(\"whitegrid\")"
   ]
  },
  {
   "cell_type": "code",
   "execution_count": 2,
   "metadata": {},
   "outputs": [
    {
     "data": {
      "text/html": [
       "<div>\n",
       "<style scoped>\n",
       "    .dataframe tbody tr th:only-of-type {\n",
       "        vertical-align: middle;\n",
       "    }\n",
       "\n",
       "    .dataframe tbody tr th {\n",
       "        vertical-align: top;\n",
       "    }\n",
       "\n",
       "    .dataframe thead th {\n",
       "        text-align: right;\n",
       "    }\n",
       "</style>\n",
       "<table border=\"1\" class=\"dataframe\">\n",
       "  <thead>\n",
       "    <tr style=\"text-align: right;\">\n",
       "      <th></th>\n",
       "      <th>0</th>\n",
       "      <th>1</th>\n",
       "      <th>2</th>\n",
       "      <th>3</th>\n",
       "      <th>4</th>\n",
       "      <th>5</th>\n",
       "      <th>6</th>\n",
       "      <th>7</th>\n",
       "      <th>8</th>\n",
       "      <th>9</th>\n",
       "      <th>...</th>\n",
       "      <th>141</th>\n",
       "      <th>142</th>\n",
       "      <th>143</th>\n",
       "      <th>144</th>\n",
       "      <th>145</th>\n",
       "      <th>146</th>\n",
       "      <th>147</th>\n",
       "      <th>148</th>\n",
       "      <th>149</th>\n",
       "      <th>organoid</th>\n",
       "    </tr>\n",
       "    <tr>\n",
       "      <th>uid</th>\n",
       "      <th></th>\n",
       "      <th></th>\n",
       "      <th></th>\n",
       "      <th></th>\n",
       "      <th></th>\n",
       "      <th></th>\n",
       "      <th></th>\n",
       "      <th></th>\n",
       "      <th></th>\n",
       "      <th></th>\n",
       "      <th></th>\n",
       "      <th></th>\n",
       "      <th></th>\n",
       "      <th></th>\n",
       "      <th></th>\n",
       "      <th></th>\n",
       "      <th></th>\n",
       "      <th></th>\n",
       "      <th></th>\n",
       "      <th></th>\n",
       "      <th></th>\n",
       "    </tr>\n",
       "  </thead>\n",
       "  <tbody>\n",
       "    <tr>\n",
       "      <th>VT007_066B</th>\n",
       "      <td>0.004044</td>\n",
       "      <td>0.003251</td>\n",
       "      <td>0.002699</td>\n",
       "      <td>0.000933</td>\n",
       "      <td>0.002498</td>\n",
       "      <td>0.001318</td>\n",
       "      <td>0.001767</td>\n",
       "      <td>0.001549</td>\n",
       "      <td>0.000162</td>\n",
       "      <td>0.001326</td>\n",
       "      <td>...</td>\n",
       "      <td>0.024270</td>\n",
       "      <td>0.023840</td>\n",
       "      <td>0.020905</td>\n",
       "      <td>0.020403</td>\n",
       "      <td>0.020539</td>\n",
       "      <td>0.023448</td>\n",
       "      <td>0.022874</td>\n",
       "      <td>0.021579</td>\n",
       "      <td>0.020398</td>\n",
       "      <td>DLX_Cheriff</td>\n",
       "    </tr>\n",
       "    <tr>\n",
       "      <th>VT007_065C</th>\n",
       "      <td>-0.005810</td>\n",
       "      <td>-0.009174</td>\n",
       "      <td>-0.007123</td>\n",
       "      <td>-0.000439</td>\n",
       "      <td>0.012535</td>\n",
       "      <td>0.010292</td>\n",
       "      <td>-0.008518</td>\n",
       "      <td>-0.003850</td>\n",
       "      <td>-0.008281</td>\n",
       "      <td>-0.002272</td>\n",
       "      <td>...</td>\n",
       "      <td>-0.004725</td>\n",
       "      <td>-0.006430</td>\n",
       "      <td>-0.009813</td>\n",
       "      <td>-0.009649</td>\n",
       "      <td>-0.015493</td>\n",
       "      <td>-0.001762</td>\n",
       "      <td>0.005104</td>\n",
       "      <td>0.007174</td>\n",
       "      <td>0.013310</td>\n",
       "      <td>DLX_Cheriff</td>\n",
       "    </tr>\n",
       "    <tr>\n",
       "      <th>VT007_049D</th>\n",
       "      <td>0.001364</td>\n",
       "      <td>-0.001753</td>\n",
       "      <td>-0.002771</td>\n",
       "      <td>-0.000469</td>\n",
       "      <td>0.002283</td>\n",
       "      <td>-0.001358</td>\n",
       "      <td>-0.002479</td>\n",
       "      <td>0.001449</td>\n",
       "      <td>0.003146</td>\n",
       "      <td>0.001852</td>\n",
       "      <td>...</td>\n",
       "      <td>0.020981</td>\n",
       "      <td>0.021550</td>\n",
       "      <td>0.019937</td>\n",
       "      <td>0.018697</td>\n",
       "      <td>0.017463</td>\n",
       "      <td>0.016347</td>\n",
       "      <td>0.017435</td>\n",
       "      <td>0.019199</td>\n",
       "      <td>0.018944</td>\n",
       "      <td>DLX_Cheriff</td>\n",
       "    </tr>\n",
       "    <tr>\n",
       "      <th>VT000_028B</th>\n",
       "      <td>0.013311</td>\n",
       "      <td>0.064860</td>\n",
       "      <td>0.040174</td>\n",
       "      <td>0.030857</td>\n",
       "      <td>0.017304</td>\n",
       "      <td>0.005566</td>\n",
       "      <td>-0.016336</td>\n",
       "      <td>0.029163</td>\n",
       "      <td>0.081317</td>\n",
       "      <td>0.031946</td>\n",
       "      <td>...</td>\n",
       "      <td>-0.041384</td>\n",
       "      <td>-0.006413</td>\n",
       "      <td>-0.004356</td>\n",
       "      <td>-0.028679</td>\n",
       "      <td>0.036181</td>\n",
       "      <td>0.038117</td>\n",
       "      <td>0.007865</td>\n",
       "      <td>-0.055905</td>\n",
       "      <td>-0.015489</td>\n",
       "      <td>DLX_Cheriff</td>\n",
       "    </tr>\n",
       "    <tr>\n",
       "      <th>VT000_010C</th>\n",
       "      <td>-0.021218</td>\n",
       "      <td>-0.009185</td>\n",
       "      <td>-0.018137</td>\n",
       "      <td>-0.010929</td>\n",
       "      <td>-0.015134</td>\n",
       "      <td>-0.018428</td>\n",
       "      <td>-0.011607</td>\n",
       "      <td>-0.016257</td>\n",
       "      <td>-0.014727</td>\n",
       "      <td>-0.020521</td>\n",
       "      <td>...</td>\n",
       "      <td>-0.013157</td>\n",
       "      <td>0.006647</td>\n",
       "      <td>-0.004224</td>\n",
       "      <td>-0.013971</td>\n",
       "      <td>0.000640</td>\n",
       "      <td>0.001861</td>\n",
       "      <td>0.007422</td>\n",
       "      <td>0.016685</td>\n",
       "      <td>0.008856</td>\n",
       "      <td>DLX_Cheriff</td>\n",
       "    </tr>\n",
       "  </tbody>\n",
       "</table>\n",
       "<p>5 rows × 151 columns</p>\n",
       "</div>"
      ],
      "text/plain": [
       "                   0         1         2         3         4         5  \\\n",
       "uid                                                                      \n",
       "VT007_066B  0.004044  0.003251  0.002699  0.000933  0.002498  0.001318   \n",
       "VT007_065C -0.005810 -0.009174 -0.007123 -0.000439  0.012535  0.010292   \n",
       "VT007_049D  0.001364 -0.001753 -0.002771 -0.000469  0.002283 -0.001358   \n",
       "VT000_028B  0.013311  0.064860  0.040174  0.030857  0.017304  0.005566   \n",
       "VT000_010C -0.021218 -0.009185 -0.018137 -0.010929 -0.015134 -0.018428   \n",
       "\n",
       "                   6         7         8         9  ...       141       142  \\\n",
       "uid                                                 ...                       \n",
       "VT007_066B  0.001767  0.001549  0.000162  0.001326  ...  0.024270  0.023840   \n",
       "VT007_065C -0.008518 -0.003850 -0.008281 -0.002272  ... -0.004725 -0.006430   \n",
       "VT007_049D -0.002479  0.001449  0.003146  0.001852  ...  0.020981  0.021550   \n",
       "VT000_028B -0.016336  0.029163  0.081317  0.031946  ... -0.041384 -0.006413   \n",
       "VT000_010C -0.011607 -0.016257 -0.014727 -0.020521  ... -0.013157  0.006647   \n",
       "\n",
       "                 143       144       145       146       147       148  \\\n",
       "uid                                                                      \n",
       "VT007_066B  0.020905  0.020403  0.020539  0.023448  0.022874  0.021579   \n",
       "VT007_065C -0.009813 -0.009649 -0.015493 -0.001762  0.005104  0.007174   \n",
       "VT007_049D  0.019937  0.018697  0.017463  0.016347  0.017435  0.019199   \n",
       "VT000_028B -0.004356 -0.028679  0.036181  0.038117  0.007865 -0.055905   \n",
       "VT000_010C -0.004224 -0.013971  0.000640  0.001861  0.007422  0.016685   \n",
       "\n",
       "                 149     organoid  \n",
       "uid                                \n",
       "VT007_066B  0.020398  DLX_Cheriff  \n",
       "VT007_065C  0.013310  DLX_Cheriff  \n",
       "VT007_049D  0.018944  DLX_Cheriff  \n",
       "VT000_028B -0.015489  DLX_Cheriff  \n",
       "VT000_010C  0.008856  DLX_Cheriff  \n",
       "\n",
       "[5 rows x 151 columns]"
      ]
     },
     "execution_count": 2,
     "metadata": {},
     "output_type": "execute_result"
    }
   ],
   "source": [
    "df = pd.read_csv('waveforms.csv',index_col='uid')\n",
    "df.head()"
   ]
  },
  {
   "cell_type": "code",
   "execution_count": 3,
   "metadata": {},
   "outputs": [
    {
     "name": "stdout",
     "output_type": "stream",
     "text": [
      "Number of columns: 151\n"
     ]
    }
   ],
   "source": [
    "print('Number of columns:', len(df.columns))"
   ]
  },
  {
   "cell_type": "code",
   "execution_count": 4,
   "metadata": {},
   "outputs": [
    {
     "name": "stdout",
     "output_type": "stream",
     "text": [
      "<class 'pandas.core.frame.DataFrame'>\n",
      "Index: 741 entries, VT007_066B to AP026R_054G\n",
      "Columns: 151 entries, 0 to organoid\n",
      "dtypes: float64(150), object(1)\n",
      "memory usage: 879.9+ KB\n"
     ]
    }
   ],
   "source": [
    "df.info()"
   ]
  },
  {
   "cell_type": "code",
   "execution_count": 5,
   "metadata": {},
   "outputs": [],
   "source": [
    "##Better plotting make a list of colors for each data in the organoid column\n",
    "mycolors = {'TSCp5_30s':     '#FFA500', # orange\n",
    "          'TSCp5_32s':       '#4169E1', # royalblue\n",
    "          'DLX_bluered':     '#DAA520', # goldenrod \n",
    "          'DLX_Cheriff':     '#228B22', # forestgreen\n",
    "          'DLX_H9' :         '#006400', # darkgreen \n",
    "          'AP_ctrl':         '#00BFFF', # deepskyblue \n",
    "          'AP_drug':         '#DC143C'  # crimson\n",
    "            }\n"
   ]
  },
  {
   "cell_type": "code",
   "execution_count": 6,
   "metadata": {},
   "outputs": [],
   "source": [
    "df1  = df.copy()"
   ]
  },
  {
   "cell_type": "code",
   "execution_count": 7,
   "metadata": {},
   "outputs": [],
   "source": [
    "#add color to the dataframe\n",
    "df1['color'] = df1['organoid'].map(mycolors)"
   ]
  },
  {
   "cell_type": "code",
   "execution_count": 8,
   "metadata": {},
   "outputs": [],
   "source": [
    "def plot_waveform(index, color= True, ax = None):\n",
    "    \"\"\"\n",
    "    Returns an axis with the normalized waveform,\n",
    "    together with its color and tissue name. It \n",
    "    requires trace (2D NumPy array with the vectors\n",
    "    of spikes) and waveforms (pandas DataFrame).\n",
    "    \n",
    "    Arguments\n",
    "    ---------\n",
    "    index (int)\n",
    "        the index of the waveform to be selected in the\n",
    "        Pandas object.\n",
    "    color (bool)\n",
    "        If the default waveform color is plotted (default true)\n",
    "    ax (matplotlib axis object)\n",
    "        If None, use current axis object\n",
    "    \"\"\"\n",
    "    \n",
    "    myax = ax or plt.gca()\n",
    "    \n",
    "    # waveforms is a DataFrame and must be previously defined\n",
    "    df = df1.drop(['organoid', 'color'], axis = 1, inplace=False)\n",
    "    trace = df.values # 2D array\n",
    "    \n",
    "    if color:\n",
    "        myax.plot(trace[index], color = df1.iloc[index].color)\n",
    "    else:\n",
    "        myax.plot(trace[index], color = 'black')\n",
    "    \n",
    "    myax.text(x = 5, y= 0.75, s=df1.iloc[index].organoid, fontsize=10, color=df1.iloc[index].color)\n",
    "    return myax"
   ]
  },
  {
   "cell_type": "code",
   "execution_count": 9,
   "metadata": {},
   "outputs": [
    {
     "data": {
      "image/png": "[encoded data removed]",
      "text/plain": [
       "<Figure size 864x216 with 7 Axes>"
      ]
     },
     "metadata": {},
     "output_type": "display_data"
    }
   ],
   "source": [
    "fig, ax = plt.subplots(1,7, figsize=(12,3))\n",
    "fig.suptitle('Example waveforms')\n",
    "\n",
    "ax[0] = plot_waveform(index = 15,  ax = ax[0])\n",
    "ax[1] = plot_waveform(index = 340, ax = ax[1])\n",
    "ax[2] = plot_waveform(index = 319, ax = ax[2])\n",
    "ax[3] = plot_waveform(index = 128, ax = ax[3])\n",
    "ax[4] = plot_waveform(index = 132, ax = ax[4])\n",
    "ax[5] = plot_waveform(index = 93,  ax = ax[5])\n",
    "ax[6] = plot_waveform(index = 98,  ax = ax[6])\n",
    "\n",
    "ax[6].text(x = 120, y= -1, s='1 ms', fontsize=10)\n",
    "ax[6].hlines(y = -1.1, xmin = 120, xmax = 150, lw=2, color='k') # 30 samples -> 1ms\n",
    "\n",
    "for myax in ax:\n",
    "    myax.set_ylim(-1.3,1.3)\n",
    "    myax.grid()\n",
    "    myax.axis('off')"
   ]
  },
  {
   "cell_type": "code",
   "execution_count": 10,
   "metadata": {},
   "outputs": [],
   "source": [
    "import plotly.graph_objects as go \n",
    "from plotly.subplots import make_subplots"
   ]
  },
  {
   "cell_type": "code",
   "execution_count": 11,
   "metadata": {},
   "outputs": [],
   "source": [
    "df2 = df1.copy()\n",
    "df2 = df2.drop(['organoid', 'color'], axis = 1, inplace=False)"
   ]
  },
  {
   "cell_type": "code",
   "execution_count": 12,
   "metadata": {},
   "outputs": [
    {
     "data": {
      "text/plain": [
       "array([[ 0.00404354,  0.00325114,  0.00269866, ...,  0.02287388,\n",
       "         0.02157877,  0.02039814],\n",
       "       [-0.00580994, -0.00917445, -0.00712291, ...,  0.00510421,\n",
       "         0.00717398,  0.01331033],\n",
       "       [ 0.0013642 , -0.00175301, -0.00277123, ...,  0.01743457,\n",
       "         0.01919919,  0.01894356],\n",
       "       ...,\n",
       "       [-0.00517605, -0.00880788,  0.02413192, ...,  0.00994247,\n",
       "        -0.0093991 , -0.01780297],\n",
       "       [-0.01500776, -0.0111465 , -0.00099832, ...,  0.05046038,\n",
       "         0.03761427,  0.01912478],\n",
       "       [ 0.01552856,  0.01854094,  0.04432342, ..., -0.01840509,\n",
       "        -0.03506181, -0.0168989 ]])"
      ]
     },
     "execution_count": 12,
     "metadata": {},
     "output_type": "execute_result"
    }
   ],
   "source": [
    "vals = df2.values\n",
    "vals"
   ]
  },
  {
   "cell_type": "code",
   "execution_count": 13,
   "metadata": {},
   "outputs": [
    {
     "data": {
      "text/html": [
       "        <script type=\"text/javascript\">\n",
       "        window.PlotlyConfig = {MathJaxConfig: 'local'};\n",
       "        if (window.MathJax) {MathJax.Hub.Config({SVG: {font: \"STIX-Web\"}});}\n",
       "        if (typeof require !== 'undefined') {\n",
       "        require.undef(\"plotly\");\n",
       "        requirejs.config({\n",
       "            paths: {\n",
       "                'plotly': ['https://cdn.plot.ly/plotly-2.8.3.min']\n",
       "            }\n",
       "        });\n",
       "        require(['plotly'], function(Plotly) {\n",
       "            window._Plotly = Plotly;\n",
       "        });\n",
       "        }\n",
       "        </script>\n",
       "        "
      ]
     },
     "metadata": {},
     "output_type": "display_data"
    },
    {
     "data": {
      "text/html": [
       "<div>                            <div id=\"b4a5447d-352a-4261-a951-4a83010e97da\" class=\"plotly-graph-div\" style=\"height:525px; width:100%;\"></div>            <script type=\"text/javascript\">                require([\"plotly\"], function(Plotly) {                    window.PLOTLYENV=window.PLOTLYENV || {};                                    if (document.getElementById(\"b4a5447d-352a-4261-a951-4a83010e97da\")) {                    Plotly.newPlot(                        \"b4a5447d-352a-4261-a951-4a83010e97da\",                        [{\"name\":\"DLX_Cheriff\",\"x\":[0,1,2,3,4,5,6,7,8,9,10,11,12,13,14,15,16,17,18,19,20,21,22,23,24,25,26,27,28,29,30,31,32,33,34,35,36,37,38,39,40,41,42,43,44,45,46,47,48,49,50,51,52,53,54,55,56,57,58,59,60,61,62,63,64,65,66,67,68,69,70,71,72,73,74,75,76,77,78,79,80,81,82,83,84,85,86,87,88,89,90,91,92,93,94,95,96,97,98,99,100,101,102,103,104,105,106,107,108,109,110,111,112,113,114,115,116,117,118,119,120,121,122,123,124,125,126,127,128,129,130,131,132,133,134,135,136,137,138,139,140,141,142,143,144,145,146,147,148,149],\"y\":[0.0224361605570717,0.0111118186693592,0.0202495498267207,0.0191907698941297,0.0099839878715992,0.0107665643435143,0.0257506020851827,0.0177407017255812,0.0222750418716774,0.0254283647143941,0.0185002612424399,0.0136897176356677,0.0054956816356155,0.0015597823209838,0.0027336470288564,-0.0026293034992676,0.0039995795569544,0.0061171394221364,0.0048512068940384,-0.0051151346453508,-0.0191554772297098,-0.0148282896791205,-0.0234596478252429,-0.0239890377915384,-0.0227921561286094,-0.0176823921061049,-0.0236437834656935,-0.0310322260387743,-0.0303877512971971,-0.0271653775893114,-0.0279709710162828,-0.0265899537129032,-0.0231604274095106,-0.0139076114768674,-0.0212039862297229,-0.0237588682409751,-0.0195697824207237,-0.0117670346566291,-0.0109384242746013,-0.024242224297158,-0.018741172038696,-0.0254851398701996,-0.0172220530049784,-0.0216873422859057,-0.0358197526904901,-0.0466837554770761,-0.0677672863086711,-0.0845006126346203,-0.0957098697470512,-0.1059293977920601,-0.1260462165112894,-0.1599041573991453,-0.1878467408375255,-0.2328218710175872,-0.2945533444786544,-0.3796470273218928,-0.5299937777498164,-0.7125642652565969,-0.89179729428021,-1.0,-0.971781213100944,-0.8440140955832764,-0.709894298470063,-0.6131080024582107,-0.5258507258396776,-0.4395831782885666,-0.3750206193555713,-0.324084097815921,-0.2814106631414921,-0.2453430945682287,-0.204810236714038,-0.1807345017251207,-0.1627582598261298,-0.1305805566573856,-0.104295193983061,-0.0967226157695296,-0.0963773614436847,-0.0665934216007985,-0.0441058565107676,-0.0479727049602304,-0.0377301599601652,-0.024035071701651,-0.0206976132184837,-0.0259915128814388,-0.0037111003869149,0.0077283262760792,0.0070608345794457,0.0044138847479682,0.0160834809615257,0.0150247010289347,0.0164057183323142,0.0153239214446669,0.0124007681525135,0.0178327695458065,0.0252672460289999,0.01511676884916,0.0101681235120498,0.0240243304559582,0.0296404674897019,0.0202955837368334,0.0186613799278342,0.0269244667930554,0.0218147027705509,0.0242084660964088,0.0122626664221755,0.0055417155457282,0.0089252079390082,0.0162906335570326,0.0198352446357069,0.0038844947816727,0.0039075117367291,0.0103752761075567,0.003124935264814,0.008280733197431,0.010398293062613,0.0074981567255159,0.0043678508378556,0.0147254806132024,0.0057028342311225,-0.0006728623194798,0.0044599186580809,0.0043218169277429,0.0024344266131242,-0.0022149983082537,0.0132754124446539,0.0088101231637265,-0.0052532363756888,-0.0048849650947875,0.0026876131187437,0.0115721577704857,-0.0023991339487043,-0.0088438813644757,-0.0143219166678813,-0.0139766623420364,-0.0134242554206846,-0.0120662550723614,-0.012112288982474,-0.0200531384769066,-0.0238739530162568,-0.0170839512746405,-0.0274876149601,-0.0301345647915775,-0.0203063249825262,-0.0278558862410012,-0.0239660208364821,-0.0231604274095106,-0.0254391059600869,-0.0334259893646322,-0.0267971063084102,-0.014298899712825],\"type\":\"scatter\",\"xaxis\":\"x\",\"yaxis\":\"y\"},{\"name\":\"TSCp5_32s\",\"x\":[0,1,2,3,4,5,6,7,8,9,10,11,12,13,14,15,16,17,18,19,20,21,22,23,24,25,26,27,28,29,30,31,32,33,34,35,36,37,38,39,40,41,42,43,44,45,46,47,48,49,50,51,52,53,54,55,56,57,58,59,60,61,62,63,64,65,66,67,68,69,70,71,72,73,74,75,76,77,78,79,80,81,82,83,84,85,86,87,88,89,90,91,92,93,94,95,96,97,98,99,100,101,102,103,104,105,106,107,108,109,110,111,112,113,114,115,116,117,118,119,120,121,122,123,124,125,126,127,128,129,130,131,132,133,134,135,136,137,138,139,140,141,142,143,144,145,146,147,148,149],\"y\":[0.0155618025233181,-0.0113652107457777,-0.0187841056879684,0.0064669523984035,0.0147349979665077,-0.0011530571657139,-0.0071194576162107,-0.0188064517570714,-0.0127730130992657,0.0013050104356142,0.0009474733299665,0.0177517172954105,0.0268242213512221,0.0172824498442479,-0.0072535340308286,-0.006627844095945,-0.0146724289730193,0.0047909972156797,0.0118523550522227,0.0063328759837856,0.0078971008209945,0.0002994373259799,-0.0090412195590673,-0.008080338587639,-0.0088624510062434,0.0004111676714949,-0.0001474840560796,-0.0063820373358122,0.0004111676714949,-0.0018010931697005,0.0036736937605305,0.0036066555532216,-0.0202589462487653,-0.0228063981265055,0.0001206687731561,0.0075395637153468,0.0101763998694989,-0.0093764105956121,-0.0148735435949462,-0.0121473231643821,0.0050814961140185,0.0165897217020553,0.0010815497445844,0.0151372272103614,0.0169249127386001,0.0040535769352813,-0.0127506670301627,-0.0158791167045804,0.0141093080316241,0.0303549002694935,0.0098859009711601,0.0190477893033836,0.0402765549512185,0.0476060656169973,0.0773933757312751,0.0926557409286132,0.0697510200980545,-0.0191639888627191,-0.2306471868533606,-0.6984174513861267,-1.0,-0.7046296585967563,-0.1673631191537096,0.1811238285073273,0.2935022100262343,0.2962507765259013,0.2983289609524789,0.27287678824418,0.215223929958481,0.168766452293377,0.1679843398747726,0.137884184793053,0.0868234168927344,0.0458183800887585,0.0373715659678305,0.0499300568037076,0.0243438076807908,0.0270923741804579,0.0193606342708254,0.0069138737804632,0.0007463587080396,0.0065339906057125,0.0152266114867733,-0.0003932908162125,-0.003834585458072,0.0144444990681689,0.0245225762336147,0.0196958253073701,0.0099752852475721,0.0092602110362766,0.0506674770841061,0.0284331383266369,-0.0019575156534214,0.0102434380768079,0.018444445437603,0.0076289479917587,0.0159863778362748,0.0115842022229869,-0.0089071431444494,0.0112266651173392,0.0011485879518933,-0.0058680777464436,0.0065786827439185,0.0023776217525575,-0.0247728522075681,-0.0011754032348169,-0.0014659021331557,0.0104892448369407,0.0121428539505615,0.0138635012714913,-0.0028066662793348,-0.0018457853079064,0.0035172712768096,-0.0022033224135542,0.0051708803904305,0.0112937033246481,0.0052379185977394,0.0051708803904305,-0.0015776324786706,0.0042546915572081,0.0026681206508963,-0.0030524730394676,-0.0032535876613944,-0.0039686618726899,-0.0073429183072405,-0.0072758800999316,-0.019387449553749,-0.006694882303254,0.0087239053778049,0.0096624402801303,-0.0102255612215255,-0.005331772087972,0.0030926959638529,0.0007016665698337,-0.009443448802921,0.0005675901552157,0.0036513476914276,-0.0169964201597297,-0.0183148382368057,-0.0112758264693657,0.0085674828940841,-0.0022033224135542,-0.0113428646766747,-0.0125048602700299,0.0032938105857798,0.0136176945113585,0.0029139274110291,-0.0090859116972733,0.0055060714269752,0.0238968862987311],\"type\":\"scatter\",\"xaxis\":\"x2\",\"yaxis\":\"y2\"},{\"name\":\"TSCp5_32s\",\"x\":[0,1,2,3,4,5,6,7,8,9,10,11,12,13,14,15,16,17,18,19,20,21,22,23,24,25,26,27,28,29,30,31,32,33,34,35,36,37,38,39,40,41,42,43,44,45,46,47,48,49,50,51,52,53,54,55,56,57,58,59,60,61,62,63,64,65,66,67,68,69,70,71,72,73,74,75,76,77,78,79,80,81,82,83,84,85,86,87,88,89,90,91,92,93,94,95,96,97,98,99,100,101,102,103,104,105,106,107,108,109,110,111,112,113,114,115,116,117,118,119,120,121,122,123,124,125,126,127,128,129,130,131,132,133,134,135,136,137,138,139,140,141,142,143,144,145,146,147,148,149],\"y\":[0.0011137633669763,-0.0004728676786327,-0.0019154232603953,-0.0034480260070619,-0.0034210118575907,-0.0019640487294435,-0.0016722959151544,-0.003091439234042,-0.0033651826153502,-0.0029527666000897,0.0001808747385705,-0.0007322035135563,-0.0007610186063256,-0.0019226270335876,-0.0017479355336738,-0.0009699280289029,-0.0012148563174419,0.0020286425624013,0.0009426737536586,0.0028984981753742,0.0015694020213907,0.0024896840467099,0.002781436860999,0.003206459479346,0.0012776492071016,-0.0009375110495375,0.0011209671401686,0.0024932859333061,0.0032460802319038,0.0052397244628791,0.0068857866373248,0.0081050252501255,0.0098105185534079,0.0122994221913553,0.0142876635924364,0.0132467183661458,0.0141742041646573,0.0168287945860282,0.020864708517027,0.0270419440294437,0.0322178550681275,0.0400141386055188,0.0468775335145042,0.0546287934694434,0.0632066863982016,0.0683141615915584,0.0700790860236774,0.0609951280281585,0.046650614658946,0.0268312336635683,-0.0004998818281039,-0.0353571393624552,-0.0749418730542683,-0.1267694192864338,-0.2027620226922457,-0.3187535767484293,-0.4982806094176008,-0.733815177713783,-0.9319027320129738,-1.0,-0.9474322660723232,-0.8448001094013022,-0.7460922081767989,-0.6571868413237486,-0.5773276126569575,-0.5030423034977262,-0.4343435204491409,-0.3742946680612371,-0.3120702761692519,-0.2587515488862756,-0.2172650190716893,-0.1780224646065116,-0.1469579936579181,-0.1199042234341503,-0.0948278889516751,-0.0770201616202534,-0.0634410491527252,-0.0521419309005671,-0.0392633853759922,-0.0301740245505791,-0.0229486400386794,-0.0192891232569795,-0.0142302735326709,-0.0110281963486835,-0.0061422371809906,-0.0037739967440145,0.0030587821289034,0.0043626650767138,0.0039880688707131,0.0054126150194949,0.0074873016988838,0.0104246402180534,0.011154022253776,0.010059048728543,0.0097979119503213,0.0085390525849629,0.0093854959350608,0.0082166837346065,0.0087803789869057,0.0070856913434118,0.0051190612619077,0.0026751812064122,0.0030857962783746,0.004209584896377,0.002201533119017,0.0022249453818921,0.0029849434536821,0.0036729037935489,0.0003807794446575,-0.0015498317708849,-0.0005034837147,0.0016666529594871,0.0014055161812654,0.0010039058257934,-7.846109635304667e-05,-0.0015606374306734,-0.0003666120240459,-0.0005647157868348,-0.0014363723431058,0.0013640944854095,0.0028786877990954,0.0008850435681201,-0.0015606374306734,-2.8034684006788177e-05,0.0053081603082062,0.0028444698764318,0.0005536700012732,0.0004005898209364,0.000614902073408,0.0014235256142462,0.0025112953662869,0.0030443745825188,0.0019512020005838,0.0035774537987507,0.0059835140449864,0.0045265509168392,0.0001718700220801,-0.0021405411726554,-0.0019226270335876,-0.0032589269607635,0.0020376472788917,0.0006779350888408,-0.0015318223379041,0.0021294953870938,0.0030425736392207,0.0032658906081827,0.0056233253853703,0.0064787734519586,0.0049155546692246,0.006799341359017],\"type\":\"scatter\",\"xaxis\":\"x3\",\"yaxis\":\"y3\"},{\"name\":\"DLX_H9\",\"x\":[0,1,2,3,4,5,6,7,8,9,10,11,12,13,14,15,16,17,18,19,20,21,22,23,24,25,26,27,28,29,30,31,32,33,34,35,36,37,38,39,40,41,42,43,44,45,46,47,48,49,50,51,52,53,54,55,56,57,58,59,60,61,62,63,64,65,66,67,68,69,70,71,72,73,74,75,76,77,78,79,80,81,82,83,84,85,86,87,88,89,90,91,92,93,94,95,96,97,98,99,100,101,102,103,104,105,106,107,108,109,110,111,112,113,114,115,116,117,118,119,120,121,122,123,124,125,126,127,128,129,130,131,132,133,134,135,136,137,138,139,140,141,142,143,144,145,146,147,148,149],\"y\":[-0.0081799622856291,0.0031848175513572,0.0097363888225147,0.0044652244902282,-0.0068434791304572,-0.0085070735473845,4.4549438505730726e-05,0.0048297198961842,0.0013810325936776,-0.0021704611053806,-0.0041611667840632,-0.0062079486790468,-0.0058434532730908,-0.0024228040787347,-0.000609673085005,-0.0019741943483273,-0.0022732675019322,-3.0218849895495887e-05,0.0030633190827052,0.0038577321469682,0.0035586589933633,0.0049605644008863,0.007315765485525,0.0065587365654625,0.0011286896203235,-0.0085164195834347,-0.012254834003496,-0.002992912277794,0.0085027120638944,0.0103999573820756,0.0027268617848997,-0.0062079486790468,-0.0085257656194848,-0.0086285720160365,-0.0109650810285748,-0.0075070476900181,0.002745553857,0.0103251890936743,0.0088672074698504,0.0001286637629571,-0.004880811559925,-0.0018713879517757,0.0020072170090379,0.0004370829526121,-0.0053948435426835,-0.0074883556179178,-0.0026471089439384,0.0056521710685977,0.0110822180137368,0.0079793340450859,0.0046241071030808,0.0112130625184389,0.0241760145200016,0.0349146099416277,0.0252040784855184,-0.0333021071884413,-0.1552304934987415,-0.3310574697102759,-0.5356608909202325,-0.7496196942163925,-0.9405405186489244,-1.0,-0.8074249271865909,-0.3968161793591547,0.0587376558334685,0.4297939790966558,0.7075301323990619,0.9155635488394248,1.0314357037892257,1.020781222692051,0.902955746207768,0.742091773712529,0.5896672717705784,0.4613461968019733,0.3545864270010719,0.2614531777612941,0.17586217961399,0.102776177701791,0.0432325820262642,-0.0099463630991081,-0.0543119962291859,-0.0877708052887348,-0.1146967351492266,-0.132155130490913,-0.140753483657054,-0.1500060593467058,-0.1620998299956042,-0.1675205309046931,-0.1637447323404312,-0.1598380892714671,-0.1599128575598683,-0.1578099994485838,-0.1516883458357334,-0.1407347915849537,-0.1276503411147391,-0.1190332958764977,-0.1173697014595704,-0.1147715034376278,-0.106677836218195,-0.0955653993545627,-0.0883502595238443,-0.0885184881727471,-0.0889203677229037,-0.079611715816951,-0.0631907304768316,-0.0508352708185289,-0.0491623303655515,-0.0522745603702525,-0.0498445909972127,-0.0435360166633592,-0.0359003052103839,-0.0266196914125816,-0.0196008183389165,-0.0182549891476944,-0.0185166781570987,-0.0153390259000466,-0.0104603950818666,-0.0063107550755985,-0.0077593906633722,-0.0139558125646239,-0.0148249939172882,-0.0072733967887643,0.0014744929541791,0.0049886025090368,0.0038296940388178,0.0019698328648373,0.000371660700261,0.0018016042159345,0.0078297974682834,0.0106336082833294,0.0075213782786283,0.0074839941344277,0.0123345868444573,0.0126336599980622,0.0093251632363079,0.0096616205341135,0.0148019403616978,0.0189422343319157,0.0171477954102863,0.013839298648532,0.0130542316203191,0.014998207118751,0.0171851795544869,0.0203721778475892,0.0221385786610681,0.0178861322582484,0.0120261676548022,0.0086896327848975,0.0080260642253366,0.0095307760294113],\"type\":\"scatter\",\"xaxis\":\"x4\",\"yaxis\":\"y4\"}],                        {\"template\":{\"data\":{\"bar\":[{\"error_x\":{\"color\":\"#2a3f5f\"},\"error_y\":{\"color\":\"#2a3f5f\"},\"marker\":{\"line\":{\"color\":\"#E5ECF6\",\"width\":0.5},\"pattern\":{\"fillmode\":\"overlay\",\"size\":10,\"solidity\":0.2}},\"type\":\"bar\"}],\"barpolar\":[{\"marker\":{\"line\":{\"color\":\"#E5ECF6\",\"width\":0.5},\"pattern\":{\"fillmode\":\"overlay\",\"size\":10,\"solidity\":0.2}},\"type\":\"barpolar\"}],\"carpet\":[{\"aaxis\":{\"endlinecolor\":\"#2a3f5f\",\"gridcolor\":\"white\",\"linecolor\":\"white\",\"minorgridcolor\":\"white\",\"startlinecolor\":\"#2a3f5f\"},\"baxis\":{\"endlinecolor\":\"#2a3f5f\",\"gridcolor\":\"white\",\"linecolor\":\"white\",\"minorgridcolor\":\"white\",\"startlinecolor\":\"#2a3f5f\"},\"type\":\"carpet\"}],\"choropleth\":[{\"colorbar\":{\"outlinewidth\":0,\"ticks\":\"\"},\"type\":\"choropleth\"}],\"contour\":[{\"colorbar\":{\"outlinewidth\":0,\"ticks\":\"\"},\"colorscale\":[[0.0,\"#0d0887\"],[0.1111111111111111,\"#46039f\"],[0.2222222222222222,\"#7201a8\"],[0.3333333333333333,\"#9c179e\"],[0.4444444444444444,\"#bd3786\"],[0.5555555555555556,\"#d8576b\"],[0.6666666666666666,\"#ed7953\"],[0.7777777777777778,\"#fb9f3a\"],[0.8888888888888888,\"#fdca26\"],[1.0,\"#f0f921\"]],\"type\":\"contour\"}],\"contourcarpet\":[{\"colorbar\":{\"outlinewidth\":0,\"ticks\":\"\"},\"type\":\"contourcarpet\"}],\"heatmap\":[{\"colorbar\":{\"outlinewidth\":0,\"ticks\":\"\"},\"colorscale\":[[0.0,\"#0d0887\"],[0.1111111111111111,\"#46039f\"],[0.2222222222222222,\"#7201a8\"],[0.3333333333333333,\"#9c179e\"],[0.4444444444444444,\"#bd3786\"],[0.5555555555555556,\"#d8576b\"],[0.6666666666666666,\"#ed7953\"],[0.7777777777777778,\"#fb9f3a\"],[0.8888888888888888,\"#fdca26\"],[1.0,\"#f0f921\"]],\"type\":\"heatmap\"}],\"heatmapgl\":[{\"colorbar\":{\"outlinewidth\":0,\"ticks\":\"\"},\"colorscale\":[[0.0,\"#0d0887\"],[0.1111111111111111,\"#46039f\"],[0.2222222222222222,\"#7201a8\"],[0.3333333333333333,\"#9c179e\"],[0.4444444444444444,\"#bd3786\"],[0.5555555555555556,\"#d8576b\"],[0.6666666666666666,\"#ed7953\"],[0.7777777777777778,\"#fb9f3a\"],[0.8888888888888888,\"#fdca26\"],[1.0,\"#f0f921\"]],\"type\":\"heatmapgl\"}],\"histogram\":[{\"marker\":{\"pattern\":{\"fillmode\":\"overlay\",\"size\":10,\"solidity\":0.2}},\"type\":\"histogram\"}],\"histogram2d\":[{\"colorbar\":{\"outlinewidth\":0,\"ticks\":\"\"},\"colorscale\":[[0.0,\"#0d0887\"],[0.1111111111111111,\"#46039f\"],[0.2222222222222222,\"#7201a8\"],[0.3333333333333333,\"#9c179e\"],[0.4444444444444444,\"#bd3786\"],[0.5555555555555556,\"#d8576b\"],[0.6666666666666666,\"#ed7953\"],[0.7777777777777778,\"#fb9f3a\"],[0.8888888888888888,\"#fdca26\"],[1.0,\"#f0f921\"]],\"type\":\"histogram2d\"}],\"histogram2dcontour\":[{\"colorbar\":{\"outlinewidth\":0,\"ticks\":\"\"},\"colorscale\":[[0.0,\"#0d0887\"],[0.1111111111111111,\"#46039f\"],[0.2222222222222222,\"#7201a8\"],[0.3333333333333333,\"#9c179e\"],[0.4444444444444444,\"#bd3786\"],[0.5555555555555556,\"#d8576b\"],[0.6666666666666666,\"#ed7953\"],[0.7777777777777778,\"#fb9f3a\"],[0.8888888888888888,\"#fdca26\"],[1.0,\"#f0f921\"]],\"type\":\"histogram2dcontour\"}],\"mesh3d\":[{\"colorbar\":{\"outlinewidth\":0,\"ticks\":\"\"},\"type\":\"mesh3d\"}],\"parcoords\":[{\"line\":{\"colorbar\":{\"outlinewidth\":0,\"ticks\":\"\"}},\"type\":\"parcoords\"}],\"pie\":[{\"automargin\":true,\"type\":\"pie\"}],\"scatter\":[{\"marker\":{\"colorbar\":{\"outlinewidth\":0,\"ticks\":\"\"}},\"type\":\"scatter\"}],\"scatter3d\":[{\"line\":{\"colorbar\":{\"outlinewidth\":0,\"ticks\":\"\"}},\"marker\":{\"colorbar\":{\"outlinewidth\":0,\"ticks\":\"\"}},\"type\":\"scatter3d\"}],\"scattercarpet\":[{\"marker\":{\"colorbar\":{\"outlinewidth\":0,\"ticks\":\"\"}},\"type\":\"scattercarpet\"}],\"scattergeo\":[{\"marker\":{\"colorbar\":{\"outlinewidth\":0,\"ticks\":\"\"}},\"type\":\"scattergeo\"}],\"scattergl\":[{\"marker\":{\"colorbar\":{\"outlinewidth\":0,\"ticks\":\"\"}},\"type\":\"scattergl\"}],\"scattermapbox\":[{\"marker\":{\"colorbar\":{\"outlinewidth\":0,\"ticks\":\"\"}},\"type\":\"scattermapbox\"}],\"scatterpolar\":[{\"marker\":{\"colorbar\":{\"outlinewidth\":0,\"ticks\":\"\"}},\"type\":\"scatterpolar\"}],\"scatterpolargl\":[{\"marker\":{\"colorbar\":{\"outlinewidth\":0,\"ticks\":\"\"}},\"type\":\"scatterpolargl\"}],\"scatterternary\":[{\"marker\":{\"colorbar\":{\"outlinewidth\":0,\"ticks\":\"\"}},\"type\":\"scatterternary\"}],\"surface\":[{\"colorbar\":{\"outlinewidth\":0,\"ticks\":\"\"},\"colorscale\":[[0.0,\"#0d0887\"],[0.1111111111111111,\"#46039f\"],[0.2222222222222222,\"#7201a8\"],[0.3333333333333333,\"#9c179e\"],[0.4444444444444444,\"#bd3786\"],[0.5555555555555556,\"#d8576b\"],[0.6666666666666666,\"#ed7953\"],[0.7777777777777778,\"#fb9f3a\"],[0.8888888888888888,\"#fdca26\"],[1.0,\"#f0f921\"]],\"type\":\"surface\"}],\"table\":[{\"cells\":{\"fill\":{\"color\":\"#EBF0F8\"},\"line\":{\"color\":\"white\"}},\"header\":{\"fill\":{\"color\":\"#C8D4E3\"},\"line\":{\"color\":\"white\"}},\"type\":\"table\"}]},\"layout\":{\"annotationdefaults\":{\"arrowcolor\":\"#2a3f5f\",\"arrowhead\":0,\"arrowwidth\":1},\"autotypenumbers\":\"strict\",\"coloraxis\":{\"colorbar\":{\"outlinewidth\":0,\"ticks\":\"\"}},\"colorscale\":{\"diverging\":[[0,\"#8e0152\"],[0.1,\"#c51b7d\"],[0.2,\"#de77ae\"],[0.3,\"#f1b6da\"],[0.4,\"#fde0ef\"],[0.5,\"#f7f7f7\"],[0.6,\"#e6f5d0\"],[0.7,\"#b8e186\"],[0.8,\"#7fbc41\"],[0.9,\"#4d9221\"],[1,\"#276419\"]],\"sequential\":[[0.0,\"#0d0887\"],[0.1111111111111111,\"#46039f\"],[0.2222222222222222,\"#7201a8\"],[0.3333333333333333,\"#9c179e\"],[0.4444444444444444,\"#bd3786\"],[0.5555555555555556,\"#d8576b\"],[0.6666666666666666,\"#ed7953\"],[0.7777777777777778,\"#fb9f3a\"],[0.8888888888888888,\"#fdca26\"],[1.0,\"#f0f921\"]],\"sequentialminus\":[[0.0,\"#0d0887\"],[0.1111111111111111,\"#46039f\"],[0.2222222222222222,\"#7201a8\"],[0.3333333333333333,\"#9c179e\"],[0.4444444444444444,\"#bd3786\"],[0.5555555555555556,\"#d8576b\"],[0.6666666666666666,\"#ed7953\"],[0.7777777777777778,\"#fb9f3a\"],[0.8888888888888888,\"#fdca26\"],[1.0,\"#f0f921\"]]},\"colorway\":[\"#636efa\",\"#EF553B\",\"#00cc96\",\"#ab63fa\",\"#FFA15A\",\"#19d3f3\",\"#FF6692\",\"#B6E880\",\"#FF97FF\",\"#FECB52\"],\"font\":{\"color\":\"#2a3f5f\"},\"geo\":{\"bgcolor\":\"white\",\"lakecolor\":\"white\",\"landcolor\":\"#E5ECF6\",\"showlakes\":true,\"showland\":true,\"subunitcolor\":\"white\"},\"hoverlabel\":{\"align\":\"left\"},\"hovermode\":\"closest\",\"mapbox\":{\"style\":\"light\"},\"paper_bgcolor\":\"white\",\"plot_bgcolor\":\"#E5ECF6\",\"polar\":{\"angularaxis\":{\"gridcolor\":\"white\",\"linecolor\":\"white\",\"ticks\":\"\"},\"bgcolor\":\"#E5ECF6\",\"radialaxis\":{\"gridcolor\":\"white\",\"linecolor\":\"white\",\"ticks\":\"\"}},\"scene\":{\"xaxis\":{\"backgroundcolor\":\"#E5ECF6\",\"gridcolor\":\"white\",\"gridwidth\":2,\"linecolor\":\"white\",\"showbackground\":true,\"ticks\":\"\",\"zerolinecolor\":\"white\"},\"yaxis\":{\"backgroundcolor\":\"#E5ECF6\",\"gridcolor\":\"white\",\"gridwidth\":2,\"linecolor\":\"white\",\"showbackground\":true,\"ticks\":\"\",\"zerolinecolor\":\"white\"},\"zaxis\":{\"backgroundcolor\":\"#E5ECF6\",\"gridcolor\":\"white\",\"gridwidth\":2,\"linecolor\":\"white\",\"showbackground\":true,\"ticks\":\"\",\"zerolinecolor\":\"white\"}},\"shapedefaults\":{\"line\":{\"color\":\"#2a3f5f\"}},\"ternary\":{\"aaxis\":{\"gridcolor\":\"white\",\"linecolor\":\"white\",\"ticks\":\"\"},\"baxis\":{\"gridcolor\":\"white\",\"linecolor\":\"white\",\"ticks\":\"\"},\"bgcolor\":\"#E5ECF6\",\"caxis\":{\"gridcolor\":\"white\",\"linecolor\":\"white\",\"ticks\":\"\"}},\"title\":{\"x\":0.05},\"xaxis\":{\"automargin\":true,\"gridcolor\":\"white\",\"linecolor\":\"white\",\"ticks\":\"\",\"title\":{\"standoff\":15},\"zerolinecolor\":\"white\",\"zerolinewidth\":2},\"yaxis\":{\"automargin\":true,\"gridcolor\":\"white\",\"linecolor\":\"white\",\"ticks\":\"\",\"title\":{\"standoff\":15},\"zerolinecolor\":\"white\",\"zerolinewidth\":2}}},\"xaxis\":{\"anchor\":\"y\",\"domain\":[0.0,0.45]},\"yaxis\":{\"anchor\":\"x\",\"domain\":[0.575,1.0]},\"xaxis2\":{\"anchor\":\"y2\",\"domain\":[0.55,1.0]},\"yaxis2\":{\"anchor\":\"x2\",\"domain\":[0.575,1.0]},\"xaxis3\":{\"anchor\":\"y3\",\"domain\":[0.0,0.45]},\"yaxis3\":{\"anchor\":\"x3\",\"domain\":[0.0,0.425]},\"xaxis4\":{\"anchor\":\"y4\",\"domain\":[0.55,1.0]},\"yaxis4\":{\"anchor\":\"x4\",\"domain\":[0.0,0.425]},\"title\":{\"text\":\"Example waveforms\"},\"showlegend\":true},                        {\"responsive\": true}                    ).then(function(){\n",
       "                            \n",
       "var gd = document.getElementById('b4a5447d-352a-4261-a951-4a83010e97da');\n",
       "var x = new MutationObserver(function (mutations, observer) {{\n",
       "        var display = window.getComputedStyle(gd).display;\n",
       "        if (!display || display === 'none') {{\n",
       "            console.log([gd, 'removed!']);\n",
       "            Plotly.purge(gd);\n",
       "            observer.disconnect();\n",
       "        }}\n",
       "}});\n",
       "\n",
       "// Listen for the removal of the full notebook cells\n",
       "var notebookContainer = gd.closest('#notebook-container');\n",
       "if (notebookContainer) {{\n",
       "    x.observe(notebookContainer, {childList: true});\n",
       "}}\n",
       "\n",
       "// Listen for the clearing of the current output cell\n",
       "var outputEl = gd.closest('.output');\n",
       "if (outputEl) {{\n",
       "    x.observe(outputEl, {childList: true});\n",
       "}}\n",
       "\n",
       "                        })                };                });            </script>        </div>"
      ]
     },
     "metadata": {},
     "output_type": "display_data"
    }
   ],
   "source": [
    "#Some plots with plotly\n",
    "index = 15\n",
    "index2 = 340\n",
    "index3 = 319\n",
    "index4 = 98\n",
    "fig = make_subplots(rows=2, cols=2)\n",
    "fig.append_trace(go.Scatter(y=vals[index], x=np.arange(len(vals[index])), name=df.iloc[index].organoid), row=1, col=1)\n",
    "fig.append_trace(go.Scatter(y=vals[index2], x=np.arange(len(vals[index2])), name=df.iloc[index2].organoid), row=1, col=2)\n",
    "fig.append_trace(go.Scatter(y=vals[index3], x=np.arange(len(vals[index3])), name=df.iloc[index3].organoid), row=2, col=1)\n",
    "fig.append_trace(go.Scatter(y=vals[index4], x=np.arange(len(vals[index4])), name=df.iloc[index4].organoid), row=2, col=2)\n",
    "fig.update_layout(title_text='Example waveforms', showlegend=True)\n",
    "fig.show()"
   ]
  },
  {
   "cell_type": "code",
   "execution_count": null,
   "metadata": {},
   "outputs": [],
   "source": []
  }
 ],
 "metadata": {
  "interpreter": {
   "hash": "47333a2500ef0234292df408a6e3a136be60b716149332c48ac43a77085b8479"
  },
  "kernelspec": {
   "display_name": "Python 3.10.1 64-bit",
   "language": "python",
   "name": "python3"
  },
  "language_info": {
   "codemirror_mode": {
    "name": "ipython",
    "version": 3
   },
   "file_extension": ".py",
   "mimetype": "text/x-python",
   "name": "python",
   "nbconvert_exporter": "python",
   "pygments_lexer": "ipython3",
   "version": "3.10.1"
  },
  "orig_nbformat": 4
 },
 "nbformat": 4,
 "nbformat_minor": 2
}
